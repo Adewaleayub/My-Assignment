{
 "cells": [
  {
   "cell_type": "code",
   "execution_count": 8,
   "id": "002877e1-3b58-4363-97e3-99cd15646d69",
   "metadata": {},
   "outputs": [
    {
     "name": "stdout",
     "output_type": "stream",
     "text": [
      "   Year    Month                 Date      Model  Dealer ID  Quantity Sold  \\\n",
      "0  2018  January  2018-01-01 23:00:00   Beaufort       1222             10   \n",
      "1  2018  January  2018-01-01 23:00:00     Salish       1222             13   \n",
      "2  2018  January  2018-01-01 23:00:00   Labrador       1222             16   \n",
      "3  2018  January  2018-01-01 23:00:00  Champlain       1222              3   \n",
      "4  2018  January  2018-01-01 23:00:00     Hudson       1222             22   \n",
      "\n",
      "    Profit  \n",
      "0  15000.0  \n",
      "1  39650.0  \n",
      "2  12800.0  \n",
      "3   6900.0  \n",
      "4  11000.0  \n"
     ]
    },
    {
     "name": "stderr",
     "output_type": "stream",
     "text": [
      "<>:3: SyntaxWarning: invalid escape sequence '\\C'\n",
      "<>:3: SyntaxWarning: invalid escape sequence '\\C'\n",
      "C:\\Users\\LENOVO\\AppData\\Local\\Temp\\ipykernel_23200\\521566917.py:3: SyntaxWarning: invalid escape sequence '\\C'\n",
      "  group4_csv = (\"Downloads\\CarSalesByModelStart.csv\")\n"
     ]
    }
   ],
   "source": [
    "#Import the CSV in a dataframe\n",
    "import pandas as pd\n",
    "group4_csv = (\"Downloads\\CarSalesByModelStart.csv\")\n",
    "df = pd.read_csv(group4_csv)\n",
    "print(df.head())"
   ]
  },
  {
   "cell_type": "code",
   "execution_count": 11,
   "id": "2b41fe01-01f5-49ae-9a34-694767ce8b5d",
   "metadata": {},
   "outputs": [
    {
     "name": "stdout",
     "output_type": "stream",
     "text": [
      "      Year     Month                 Date      Model  Dealer ID  \\\n",
      "0     2018   January  2018-01-01 23:00:00   Beaufort       1222   \n",
      "1     2018   January  2018-01-01 23:00:00     Salish       1222   \n",
      "2     2018   January  2018-01-01 23:00:00   Labrador       1222   \n",
      "3     2018   January  2018-01-01 23:00:00  Champlain       1222   \n",
      "4     2018   January  2018-01-01 23:00:00     Hudson       1222   \n",
      "...    ...       ...                  ...        ...        ...   \n",
      "1195  2019  December  2019-12-01 23:00:00   Beaufort       1288   \n",
      "1196  2019  December  2019-12-01 23:00:00     Salish       1288   \n",
      "1197  2019  December  2019-12-01 23:00:00   Labrador       1288   \n",
      "1198  2019  December  2019-12-01 23:00:00  Champlain       1288   \n",
      "1199  2019  December  2019-12-01 23:00:00     Hudson       1288   \n",
      "\n",
      "      Quantity Sold   Profit  Price  \n",
      "0                10  15000.0    100  \n",
      "1                13  39650.0    100  \n",
      "2                16  12800.0    100  \n",
      "3                 3   6900.0    100  \n",
      "4                22  11000.0    100  \n",
      "...             ...      ...    ...  \n",
      "1195             12  18000.0    100  \n",
      "1196             14  42700.0    100  \n",
      "1197             18  14400.0    100  \n",
      "1198              4   9200.0    100  \n",
      "1199             25  12500.0    100  \n",
      "\n",
      "[1200 rows x 8 columns]\n"
     ]
    }
   ],
   "source": [
    "#Add a column to the dataframe\n",
    "df['Price'] = 100\n",
    "print(df)"
   ]
  },
  {
   "cell_type": "code",
   "execution_count": 13,
   "id": "3103c822-a3e4-4a7a-974a-24f05347becd",
   "metadata": {},
   "outputs": [
    {
     "data": {
      "text/html": [
       "<div>\n",
       "<style scoped>\n",
       "    .dataframe tbody tr th:only-of-type {\n",
       "        vertical-align: middle;\n",
       "    }\n",
       "\n",
       "    .dataframe tbody tr th {\n",
       "        vertical-align: top;\n",
       "    }\n",
       "\n",
       "    .dataframe thead th {\n",
       "        text-align: right;\n",
       "    }\n",
       "</style>\n",
       "<table border=\"1\" class=\"dataframe\">\n",
       "  <thead>\n",
       "    <tr style=\"text-align: right;\">\n",
       "      <th></th>\n",
       "      <th>Year</th>\n",
       "      <th>Dealer ID</th>\n",
       "      <th>Quantity Sold</th>\n",
       "      <th>Profit</th>\n",
       "      <th>Price</th>\n",
       "    </tr>\n",
       "  </thead>\n",
       "  <tbody>\n",
       "    <tr>\n",
       "      <th>count</th>\n",
       "      <td>1200.000000</td>\n",
       "      <td>1200.000000</td>\n",
       "      <td>1200.00000</td>\n",
       "      <td>1200.000000</td>\n",
       "      <td>1200.0</td>\n",
       "    </tr>\n",
       "    <tr>\n",
       "      <th>mean</th>\n",
       "      <td>2018.500000</td>\n",
       "      <td>1281.800000</td>\n",
       "      <td>17.99750</td>\n",
       "      <td>24974.065417</td>\n",
       "      <td>100.0</td>\n",
       "    </tr>\n",
       "    <tr>\n",
       "      <th>std</th>\n",
       "      <td>0.500208</td>\n",
       "      <td>72.453672</td>\n",
       "      <td>9.97432</td>\n",
       "      <td>17370.756737</td>\n",
       "      <td>0.0</td>\n",
       "    </tr>\n",
       "    <tr>\n",
       "      <th>min</th>\n",
       "      <td>2018.000000</td>\n",
       "      <td>1212.000000</td>\n",
       "      <td>2.00000</td>\n",
       "      <td>4600.000000</td>\n",
       "      <td>100.0</td>\n",
       "    </tr>\n",
       "    <tr>\n",
       "      <th>25%</th>\n",
       "      <td>2018.000000</td>\n",
       "      <td>1217.000000</td>\n",
       "      <td>11.00000</td>\n",
       "      <td>13500.000000</td>\n",
       "      <td>100.0</td>\n",
       "    </tr>\n",
       "    <tr>\n",
       "      <th>50%</th>\n",
       "      <td>2018.500000</td>\n",
       "      <td>1256.000000</td>\n",
       "      <td>18.00000</td>\n",
       "      <td>18500.000000</td>\n",
       "      <td>100.0</td>\n",
       "    </tr>\n",
       "    <tr>\n",
       "      <th>75%</th>\n",
       "      <td>2019.000000</td>\n",
       "      <td>1336.000000</td>\n",
       "      <td>24.00000</td>\n",
       "      <td>28923.000000</td>\n",
       "      <td>100.0</td>\n",
       "    </tr>\n",
       "    <tr>\n",
       "      <th>max</th>\n",
       "      <td>2019.000000</td>\n",
       "      <td>1402.000000</td>\n",
       "      <td>48.00000</td>\n",
       "      <td>83875.000000</td>\n",
       "      <td>100.0</td>\n",
       "    </tr>\n",
       "  </tbody>\n",
       "</table>\n",
       "</div>"
      ],
      "text/plain": [
       "              Year    Dealer ID  Quantity Sold        Profit   Price\n",
       "count  1200.000000  1200.000000     1200.00000   1200.000000  1200.0\n",
       "mean   2018.500000  1281.800000       17.99750  24974.065417   100.0\n",
       "std       0.500208    72.453672        9.97432  17370.756737     0.0\n",
       "min    2018.000000  1212.000000        2.00000   4600.000000   100.0\n",
       "25%    2018.000000  1217.000000       11.00000  13500.000000   100.0\n",
       "50%    2018.500000  1256.000000       18.00000  18500.000000   100.0\n",
       "75%    2019.000000  1336.000000       24.00000  28923.000000   100.0\n",
       "max    2019.000000  1402.000000       48.00000  83875.000000   100.0"
      ]
     },
     "execution_count": 13,
     "metadata": {},
     "output_type": "execute_result"
    }
   ],
   "source": [
    "#Perform describe and info on dataframe\n",
    "df.describe()"
   ]
  },
  {
   "cell_type": "code",
   "execution_count": 16,
   "id": "348f2c6a-7fda-432f-bf7e-4cfe337dda32",
   "metadata": {},
   "outputs": [
    {
     "name": "stdout",
     "output_type": "stream",
     "text": [
      "Dataframe Info\n",
      "<class 'pandas.core.frame.DataFrame'>\n",
      "RangeIndex: 1200 entries, 0 to 1199\n",
      "Data columns (total 8 columns):\n",
      " #   Column         Non-Null Count  Dtype  \n",
      "---  ------         --------------  -----  \n",
      " 0   Year           1200 non-null   int64  \n",
      " 1   Month          1200 non-null   object \n",
      " 2   Date           1200 non-null   object \n",
      " 3   Model          1200 non-null   object \n",
      " 4   Dealer ID      1200 non-null   int64  \n",
      " 5   Quantity Sold  1200 non-null   int64  \n",
      " 6   Profit         1200 non-null   float64\n",
      " 7   Price          1200 non-null   int64  \n",
      "dtypes: float64(1), int64(4), object(3)\n",
      "memory usage: 75.1+ KB\n"
     ]
    }
   ],
   "source": [
    "#Perform describe and info on dataframe\n",
    "print(\"Dataframe Info\")\n",
    "df.info()"
   ]
  },
  {
   "cell_type": "code",
   "execution_count": null,
   "id": "52ab837b-9da2-4f93-bf7f-259a5dc9a616",
   "metadata": {},
   "outputs": [],
   "source": []
  }
 ],
 "metadata": {
  "kernelspec": {
   "display_name": "Python 3 (ipykernel)",
   "language": "python",
   "name": "python3"
  },
  "language_info": {
   "codemirror_mode": {
    "name": "ipython",
    "version": 3
   },
   "file_extension": ".py",
   "mimetype": "text/x-python",
   "name": "python",
   "nbconvert_exporter": "python",
   "pygments_lexer": "ipython3",
   "version": "3.12.4"
  }
 },
 "nbformat": 4,
 "nbformat_minor": 5
}
