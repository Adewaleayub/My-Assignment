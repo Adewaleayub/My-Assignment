{
 "cells": [
  {
   "cell_type": "code",
   "execution_count": 6,
   "id": "c5cb538c-e99e-43d7-bcbf-abca3a903ec8",
   "metadata": {},
   "outputs": [],
   "source": [
    "#Consider the following dataframe and do as directed:\n",
    "import pandas as pd\n",
    "d={'Mouse':[150,200,300,400],\n",
    "'Keyboard':[180,200,190,300],\n",
    "'Scanner':[200,280,330,450]}\n",
    "df=pd.DataFrame(d, index=['Jan','Feb','March','April'])"
   ]
  },
  {
   "cell_type": "code",
   "execution_count": 7,
   "id": "0dab9044-bfbd-4ec7-856a-d832abb89f1f",
   "metadata": {},
   "outputs": [
    {
     "name": "stdout",
     "output_type": "stream",
     "text": [
      "       Mouse  Keyboard  Scanner\n",
      "Jan      150       180      200\n",
      "Feb      200       200      280\n",
      "March    300       190      330\n",
      "April    400       300      450\n"
     ]
    }
   ],
   "source": [
    "print(df)"
   ]
  },
  {
   "cell_type": "code",
   "execution_count": 10,
   "id": "6c4b905d-b129-4df3-9673-58f13db08e66",
   "metadata": {},
   "outputs": [
    {
     "data": {
      "text/html": [
       "<div>\n",
       "<style scoped>\n",
       "    .dataframe tbody tr th:only-of-type {\n",
       "        vertical-align: middle;\n",
       "    }\n",
       "\n",
       "    .dataframe tbody tr th {\n",
       "        vertical-align: top;\n",
       "    }\n",
       "\n",
       "    .dataframe thead th {\n",
       "        text-align: right;\n",
       "    }\n",
       "</style>\n",
       "<table border=\"1\" class=\"dataframe\">\n",
       "  <thead>\n",
       "    <tr style=\"text-align: right;\">\n",
       "      <th></th>\n",
       "      <th>Mouse</th>\n",
       "      <th>Scanner</th>\n",
       "    </tr>\n",
       "  </thead>\n",
       "  <tbody>\n",
       "    <tr>\n",
       "      <th>Jan</th>\n",
       "      <td>150</td>\n",
       "      <td>200</td>\n",
       "    </tr>\n",
       "    <tr>\n",
       "      <th>Feb</th>\n",
       "      <td>200</td>\n",
       "      <td>280</td>\n",
       "    </tr>\n",
       "    <tr>\n",
       "      <th>March</th>\n",
       "      <td>300</td>\n",
       "      <td>330</td>\n",
       "    </tr>\n",
       "    <tr>\n",
       "      <th>April</th>\n",
       "      <td>400</td>\n",
       "      <td>450</td>\n",
       "    </tr>\n",
       "  </tbody>\n",
       "</table>\n",
       "</div>"
      ],
      "text/plain": [
       "       Mouse  Scanner\n",
       "Jan      150      200\n",
       "Feb      200      280\n",
       "March    300      330\n",
       "April    400      450"
      ]
     },
     "execution_count": 10,
     "metadata": {},
     "output_type": "execute_result"
    }
   ],
   "source": [
    "#A. Write code to access data of Mouse and Scanner columns\n",
    "df[[\"Mouse\", \"Scanner\"]]"
   ]
  },
  {
   "cell_type": "code",
   "execution_count": 11,
   "id": "6a42b974-ac18-4932-bbad-ea37d9f90324",
   "metadata": {},
   "outputs": [
    {
     "data": {
      "text/plain": [
       "Jan      180\n",
       "Feb      200\n",
       "March    190\n",
       "April    300\n",
       "Name: Keyboard, dtype: int64"
      ]
     },
     "execution_count": 11,
     "metadata": {},
     "output_type": "execute_result"
    }
   ],
   "source": [
    "#B. Write code to access data of the Keyboard column using dot notation and column name.\n",
    "df.Keyboard"
   ]
  },
  {
   "cell_type": "code",
   "execution_count": 14,
   "id": "2c9660e1-18d1-4513-872a-bcddd34af083",
   "metadata": {},
   "outputs": [
    {
     "data": {
      "text/plain": [
       "Jan      200\n",
       "Feb      280\n",
       "March    330\n",
       "April    450\n",
       "Name: Scanner, dtype: int64"
      ]
     },
     "execution_count": 14,
     "metadata": {},
     "output_type": "execute_result"
    }
   ],
   "source": [
    "#Write code to access data of scanners using loc[].\n",
    "df.loc[:, \"Scanner\"]"
   ]
  },
  {
   "cell_type": "code",
   "execution_count": 15,
   "id": "1c5ecede-68aa-480c-9703-753a9f9cf4bc",
   "metadata": {},
   "outputs": [
    {
     "data": {
      "text/html": [
       "<div>\n",
       "<style scoped>\n",
       "    .dataframe tbody tr th:only-of-type {\n",
       "        vertical-align: middle;\n",
       "    }\n",
       "\n",
       "    .dataframe tbody tr th {\n",
       "        vertical-align: top;\n",
       "    }\n",
       "\n",
       "    .dataframe thead th {\n",
       "        text-align: right;\n",
       "    }\n",
       "</style>\n",
       "<table border=\"1\" class=\"dataframe\">\n",
       "  <thead>\n",
       "    <tr style=\"text-align: right;\">\n",
       "      <th></th>\n",
       "      <th>Mouse</th>\n",
       "      <th>Keyboard</th>\n",
       "      <th>Scanner</th>\n",
       "    </tr>\n",
       "  </thead>\n",
       "  <tbody>\n",
       "    <tr>\n",
       "      <th>March</th>\n",
       "      <td>300</td>\n",
       "      <td>190</td>\n",
       "      <td>330</td>\n",
       "    </tr>\n",
       "    <tr>\n",
       "      <th>April</th>\n",
       "      <td>400</td>\n",
       "      <td>300</td>\n",
       "      <td>450</td>\n",
       "    </tr>\n",
       "  </tbody>\n",
       "</table>\n",
       "</div>"
      ],
      "text/plain": [
       "       Mouse  Keyboard  Scanner\n",
       "March    300       190      330\n",
       "April    400       300      450"
      ]
     },
     "execution_count": 15,
     "metadata": {},
     "output_type": "execute_result"
    }
   ],
   "source": [
    "#D. Write code to access data of all columns where mouse data is more than 200.\n",
    "df[df[\"Mouse\"] > 200]"
   ]
  },
  {
   "cell_type": "code",
   "execution_count": 16,
   "id": "96c42b6e-46aa-4921-bc57-57e60bc40de3",
   "metadata": {},
   "outputs": [
    {
     "data": {
      "text/plain": [
       "Jan      200\n",
       "Feb      280\n",
       "March    330\n",
       "April    450\n",
       "Name: Scanner, dtype: int64"
      ]
     },
     "execution_count": 16,
     "metadata": {},
     "output_type": "execute_result"
    }
   ],
   "source": [
    "#E. Write code to access columns using 0 and 2.\n",
    "df.iloc[:,0]\n",
    "df.iloc[:,2]"
   ]
  },
  {
   "cell_type": "code",
   "execution_count": 17,
   "id": "cbbf6c72-42ce-4194-bd95-7cefd2a819e8",
   "metadata": {},
   "outputs": [
    {
     "data": {
      "text/html": [
       "<div>\n",
       "<style scoped>\n",
       "    .dataframe tbody tr th:only-of-type {\n",
       "        vertical-align: middle;\n",
       "    }\n",
       "\n",
       "    .dataframe tbody tr th {\n",
       "        vertical-align: top;\n",
       "    }\n",
       "\n",
       "    .dataframe thead th {\n",
       "        text-align: right;\n",
       "    }\n",
       "</style>\n",
       "<table border=\"1\" class=\"dataframe\">\n",
       "  <thead>\n",
       "    <tr style=\"text-align: right;\">\n",
       "      <th></th>\n",
       "      <th>Scanner</th>\n",
       "      <th>Keyboard</th>\n",
       "    </tr>\n",
       "  </thead>\n",
       "  <tbody>\n",
       "    <tr>\n",
       "      <th>Jan</th>\n",
       "      <td>200</td>\n",
       "      <td>180</td>\n",
       "    </tr>\n",
       "    <tr>\n",
       "      <th>March</th>\n",
       "      <td>330</td>\n",
       "      <td>190</td>\n",
       "    </tr>\n",
       "  </tbody>\n",
       "</table>\n",
       "</div>"
      ],
      "text/plain": [
       "       Scanner  Keyboard\n",
       "Jan        200       180\n",
       "March      330       190"
      ]
     },
     "execution_count": 17,
     "metadata": {},
     "output_type": "execute_result"
    }
   ],
   "source": [
    "# Write code to access data of rows of jan and march for scanner and keyboard\n",
    "df.loc[[\"Jan\", \"March\"],[\"Scanner\", \"Keyboard\"]]"
   ]
  },
  {
   "cell_type": "code",
   "execution_count": null,
   "id": "1ff47805-2710-4570-8553-794d66c954f4",
   "metadata": {},
   "outputs": [],
   "source": []
  }
 ],
 "metadata": {
  "kernelspec": {
   "display_name": "Python 3 (ipykernel)",
   "language": "python",
   "name": "python3"
  },
  "language_info": {
   "codemirror_mode": {
    "name": "ipython",
    "version": 3
   },
   "file_extension": ".py",
   "mimetype": "text/x-python",
   "name": "python",
   "nbconvert_exporter": "python",
   "pygments_lexer": "ipython3",
   "version": "3.12.4"
  }
 },
 "nbformat": 4,
 "nbformat_minor": 5
}
